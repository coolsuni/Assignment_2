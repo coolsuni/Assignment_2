{
 "cells": [
  {
   "cell_type": "code",
   "execution_count": 1,
   "id": "42cf647a-947c-44d4-999d-5f86b413c44b",
   "metadata": {},
   "outputs": [],
   "source": [
    "                                         # List based problems"
   ]
  },
  {
   "cell_type": "code",
   "execution_count": 11,
   "id": "49181ba6-2665-45be-8a59-26b808e2bc0c",
   "metadata": {},
   "outputs": [],
   "source": [
    "#1) to create a list with integers 1-10\n",
    "\n"
   ]
  },
  {
   "cell_type": "code",
   "execution_count": 159,
   "id": "04faa116-e583-4a22-96c6-9e4d61ee33c1",
   "metadata": {},
   "outputs": [],
   "source": [
    "list1= [i for i in range(1,11)]   #create a list of 10 elements"
   ]
  },
  {
   "cell_type": "code",
   "execution_count": 160,
   "id": "187c6d07-837a-4b96-aa5a-05195cddc756",
   "metadata": {},
   "outputs": [
    {
     "name": "stdout",
     "output_type": "stream",
     "text": [
      "[1, 2, 3, 4, 5, 6, 7, 8, 9, 10]\n"
     ]
    }
   ],
   "source": [
    "print(list1)"
   ]
  },
  {
   "cell_type": "code",
   "execution_count": 12,
   "id": "a4cf5916-0cfb-415a-b172-5b8863db659b",
   "metadata": {},
   "outputs": [],
   "source": [
    "#2) find length of list without len()\n",
    "\n"
   ]
  },
  {
   "cell_type": "code",
   "execution_count": 15,
   "id": "9ad8ba57-eef0-4113-b5ac-6eb173c25065",
   "metadata": {},
   "outputs": [],
   "source": [
    "list1=[1,2,3,4,5]"
   ]
  },
  {
   "cell_type": "code",
   "execution_count": 16,
   "id": "8cb5d44c-84be-4226-9ce3-96d72a15fbae",
   "metadata": {},
   "outputs": [],
   "source": [
    "c=0               #initialize counter\n",
    "for i in list1:    #find length using loop\n",
    "    c+=1           #increment function"
   ]
  },
  {
   "cell_type": "code",
   "execution_count": 17,
   "id": "ad1233a2-46a2-4484-bf80-c1404ea31a74",
   "metadata": {},
   "outputs": [
    {
     "name": "stdout",
     "output_type": "stream",
     "text": [
      "the length of the list is: 5\n"
     ]
    }
   ],
   "source": [
    "print(\"the length of the list is:\", c)"
   ]
  },
  {
   "cell_type": "code",
   "execution_count": 18,
   "id": "48acc8d3-8edd-4319-a959-b3e1ca8a16b7",
   "metadata": {},
   "outputs": [],
   "source": [
    "#3) to append an element to end\n",
    "\n"
   ]
  },
  {
   "cell_type": "code",
   "execution_count": 19,
   "id": "a18e6928-98eb-4559-b678-316b48f128e4",
   "metadata": {},
   "outputs": [],
   "source": [
    "list1=[1,2,3,4]"
   ]
  },
  {
   "cell_type": "code",
   "execution_count": 20,
   "id": "9b991c54-09d4-40d3-a507-e7e87c930628",
   "metadata": {},
   "outputs": [],
   "source": [
    "list1.append(5)                      #add element 5 at the end of list"
   ]
  },
  {
   "cell_type": "code",
   "execution_count": 21,
   "id": "6b397cff-f7d3-4e0f-b7b2-89f1f7dd3071",
   "metadata": {},
   "outputs": [
    {
     "name": "stdout",
     "output_type": "stream",
     "text": [
      "the final list is: [1, 2, 3, 4, 5]\n"
     ]
    }
   ],
   "source": [
    "print(\"the final list is:\", list1)"
   ]
  },
  {
   "cell_type": "code",
   "execution_count": 22,
   "id": "85a2bdc7-67b0-4547-8cb0-5558bb7038bf",
   "metadata": {},
   "outputs": [],
   "source": [
    "#4)to insert an element to specific index\n",
    "\n"
   ]
  },
  {
   "cell_type": "code",
   "execution_count": 23,
   "id": "b8066541-7602-4008-a6b5-96e254cc0f24",
   "metadata": {},
   "outputs": [],
   "source": [
    "list1=[1,2,4,5]"
   ]
  },
  {
   "cell_type": "code",
   "execution_count": 25,
   "id": "7ac1c9b5-5ba0-4767-8f66-0ceb71751121",
   "metadata": {},
   "outputs": [],
   "source": [
    "list1.insert(2,3)                    #insert element 3 at index of 2"
   ]
  },
  {
   "cell_type": "code",
   "execution_count": 26,
   "id": "3f4b2244-5da9-4ec5-92d2-ee4d74ec8fd6",
   "metadata": {},
   "outputs": [
    {
     "name": "stdout",
     "output_type": "stream",
     "text": [
      "the new list is: [1, 2, 3, 4, 5]\n"
     ]
    }
   ],
   "source": [
    "print(\"the new list is:\",list1)"
   ]
  },
  {
   "cell_type": "code",
   "execution_count": 27,
   "id": "eb0744d8-3c30-4e5a-a4eb-e2e52f713dc6",
   "metadata": {},
   "outputs": [],
   "source": [
    "#5) remove an element from list by value\n",
    "\n"
   ]
  },
  {
   "cell_type": "code",
   "execution_count": 28,
   "id": "ea02bf1c-4112-4d02-8d54-2a3619588a9b",
   "metadata": {},
   "outputs": [],
   "source": [
    "list1=[1,2,3,3,4,5]"
   ]
  },
  {
   "cell_type": "code",
   "execution_count": 29,
   "id": "b155c1c7-f7b8-4b00-911e-998c54d2875b",
   "metadata": {},
   "outputs": [
    {
     "data": {
      "text/plain": [
       "3"
      ]
     },
     "execution_count": 29,
     "metadata": {},
     "output_type": "execute_result"
    }
   ],
   "source": [
    "list1.pop(2)                      #pop() function to remove element 3 from list"
   ]
  },
  {
   "cell_type": "code",
   "execution_count": 30,
   "id": "3bec6fd3-5cbf-4d78-9bcf-2879027b7301",
   "metadata": {},
   "outputs": [
    {
     "name": "stdout",
     "output_type": "stream",
     "text": [
      "the new list is: [1, 2, 3, 4, 5]\n"
     ]
    }
   ],
   "source": [
    "print(\"the new list is:\",list1)"
   ]
  },
  {
   "cell_type": "code",
   "execution_count": 31,
   "id": "d38b1a76-cb56-4b53-a3cc-e9ce1ad160a9",
   "metadata": {},
   "outputs": [],
   "source": [
    "#6) to check if the element exists in the list\n",
    "\n"
   ]
  },
  {
   "cell_type": "code",
   "execution_count": 39,
   "id": "1b287db1-033f-442a-a47a-442c0047af7d",
   "metadata": {},
   "outputs": [],
   "source": [
    "list1=['name','age','profession','city']"
   ]
  },
  {
   "cell_type": "code",
   "execution_count": 40,
   "id": "47df5814-a776-47c9-ae58-aef776e8dc15",
   "metadata": {},
   "outputs": [],
   "source": [
    "a=list1.index('age')                # index() function to determine position of an element"
   ]
  },
  {
   "cell_type": "code",
   "execution_count": 42,
   "id": "fe3f9609-0a7f-41e3-910d-068f1f912224",
   "metadata": {},
   "outputs": [
    {
     "name": "stdout",
     "output_type": "stream",
     "text": [
      "the element exists at position: 1\n"
     ]
    }
   ],
   "source": [
    "print(\"the element exists at position:\",a)"
   ]
  },
  {
   "cell_type": "code",
   "execution_count": 43,
   "id": "61f3e13b-14bb-4328-8aa5-7addfaf74129",
   "metadata": {},
   "outputs": [],
   "source": [
    "#7) to find index of 1st occurence of an element\n",
    "\n"
   ]
  },
  {
   "cell_type": "code",
   "execution_count": 61,
   "id": "e7d8ab01-ff94-40ce-98a3-52c5d7f89e84",
   "metadata": {},
   "outputs": [],
   "source": [
    "list1=[1,2,4,6,5,5,7,9]"
   ]
  },
  {
   "cell_type": "code",
   "execution_count": 62,
   "id": "c7b4759e-596c-40e0-aea4-2fd5fe65fde0",
   "metadata": {},
   "outputs": [],
   "source": [
    "element=6"
   ]
  },
  {
   "cell_type": "code",
   "execution_count": 64,
   "id": "7c6098da-e03e-4eb5-9dc6-1b6d38acdc1b",
   "metadata": {},
   "outputs": [],
   "source": [
    "a=list1.index(element)                    #determine index of 1st occurence of element 6"
   ]
  },
  {
   "cell_type": "code",
   "execution_count": 65,
   "id": "db4b5be8-f01f-4d37-aa75-49822d30252c",
   "metadata": {},
   "outputs": [
    {
     "name": "stdout",
     "output_type": "stream",
     "text": [
      "the index of 1st occurence of 6 is: 3\n"
     ]
    }
   ],
   "source": [
    "print(\"the index of 1st occurence of\",element,\"is:\",a)"
   ]
  },
  {
   "cell_type": "code",
   "execution_count": 66,
   "id": "3545dc98-cd08-4b61-bb84-97a65f56dff8",
   "metadata": {},
   "outputs": [],
   "source": [
    "#8)to count the occurences of an element\n",
    "\n"
   ]
  },
  {
   "cell_type": "code",
   "execution_count": 84,
   "id": "fc9096ef-c097-4695-a42f-7708baf136f2",
   "metadata": {},
   "outputs": [],
   "source": [
    "list1=[56,78,23,45,23,54,56]"
   ]
  },
  {
   "cell_type": "code",
   "execution_count": 85,
   "id": "550de03a-49a2-4de6-9217-24cc01c8895d",
   "metadata": {},
   "outputs": [],
   "source": [
    "a=list1.count(23)                        #count() function to count the occurences of an element"
   ]
  },
  {
   "cell_type": "code",
   "execution_count": 86,
   "id": "f52664f3-d7c8-4b65-9f4e-4d0c02847ccc",
   "metadata": {},
   "outputs": [
    {
     "name": "stdout",
     "output_type": "stream",
     "text": [
      "the number of occurences of 23 in list is: 2\n"
     ]
    }
   ],
   "source": [
    "print(\"the number of occurences of 23 in list is:\",a)"
   ]
  },
  {
   "cell_type": "code",
   "execution_count": 87,
   "id": "82b6729e-085e-49e3-83cf-af6b28f6fc11",
   "metadata": {},
   "outputs": [],
   "source": [
    "#9) to reverse the order of elements\n",
    "\n"
   ]
  },
  {
   "cell_type": "code",
   "execution_count": 88,
   "id": "921f499d-3377-4276-b0fb-c1cbdb08da6e",
   "metadata": {},
   "outputs": [],
   "source": [
    "list1=[1,2,3,4,5,6]"
   ]
  },
  {
   "cell_type": "code",
   "execution_count": 89,
   "id": "70e4fc9f-ddaa-422d-9409-d8a12f18cd49",
   "metadata": {},
   "outputs": [],
   "source": [
    "list1.reverse()                    #to reverse the list"
   ]
  },
  {
   "cell_type": "code",
   "execution_count": 90,
   "id": "ffca9fe4-ae5a-415c-8f4d-4ff288c444d1",
   "metadata": {},
   "outputs": [
    {
     "name": "stdout",
     "output_type": "stream",
     "text": [
      "the reverse list is: [6, 5, 4, 3, 2, 1]\n"
     ]
    }
   ],
   "source": [
    "print(\"the reverse list is:\",list1)"
   ]
  },
  {
   "cell_type": "code",
   "execution_count": 91,
   "id": "89c4a5c1-fa37-4641-b698-97906da20874",
   "metadata": {},
   "outputs": [],
   "source": [
    "#10) to sort list in ascending order\n",
    "\n"
   ]
  },
  {
   "cell_type": "code",
   "execution_count": 92,
   "id": "491a5849-e3ab-411e-84d4-90c9868bea8b",
   "metadata": {},
   "outputs": [],
   "source": [
    "list1=[23,44,5,89,12,62]"
   ]
  },
  {
   "cell_type": "code",
   "execution_count": 93,
   "id": "1b50225b-4093-4bb9-a480-4f03a211e5fd",
   "metadata": {},
   "outputs": [],
   "source": [
    "list1.sort()                     #to sort the list in ascending order"
   ]
  },
  {
   "cell_type": "code",
   "execution_count": 95,
   "id": "1afbd29e-990b-40b1-9bec-23c2f3fdb917",
   "metadata": {},
   "outputs": [
    {
     "name": "stdout",
     "output_type": "stream",
     "text": [
      "the sorted ascending list is: [5, 12, 23, 44, 62, 89]\n"
     ]
    }
   ],
   "source": [
    "print(\"the sorted ascending list is:\",list1)"
   ]
  },
  {
   "cell_type": "code",
   "execution_count": 96,
   "id": "43a955be-cab3-41f5-9dd1-203209791eb6",
   "metadata": {},
   "outputs": [],
   "source": [
    "#11) to sort the list in descending order\n",
    "\n"
   ]
  },
  {
   "cell_type": "code",
   "execution_count": 97,
   "id": "daa0fe7a-caec-4bd1-a777-2d786c9848d6",
   "metadata": {},
   "outputs": [],
   "source": [
    "list1=[34,23,45,65,89,100]"
   ]
  },
  {
   "cell_type": "code",
   "execution_count": 105,
   "id": "86a612b3-e02d-4dbf-b31f-5381da37e92d",
   "metadata": {},
   "outputs": [],
   "source": [
    "list1.sort(reverse=True)           #first reverse the list using reverse() and then sort the list using sort()"
   ]
  },
  {
   "cell_type": "code",
   "execution_count": 106,
   "id": "5e0042a6-ef7c-4550-b61c-070d34f10424",
   "metadata": {},
   "outputs": [
    {
     "name": "stdout",
     "output_type": "stream",
     "text": [
      "the list in descending order  is: [100, 89, 65, 45, 34, 23]\n"
     ]
    }
   ],
   "source": [
    "print(\"the list in descending order  is:\",list1)"
   ]
  },
  {
   "cell_type": "code",
   "execution_count": 107,
   "id": "19aeceae-9a63-42de-8425-bcf0b273f9e0",
   "metadata": {},
   "outputs": [],
   "source": [
    "#12) create list of even numbers from 1-20\n",
    "\n"
   ]
  },
  {
   "cell_type": "code",
   "execution_count": 162,
   "id": "4520dabb-5734-4bcb-85eb-a3b0d177d774",
   "metadata": {},
   "outputs": [],
   "source": [
    "list1=[ i for i in range(2,21,2)]"
   ]
  },
  {
   "cell_type": "code",
   "execution_count": 163,
   "id": "97e00b3a-2679-4eb2-b6a5-cd920a8a9de1",
   "metadata": {},
   "outputs": [
    {
     "name": "stdout",
     "output_type": "stream",
     "text": [
      "the list of even numbers is: [2, 4, 6, 8, 10, 12, 14, 16, 18, 20]\n"
     ]
    }
   ],
   "source": [
    "print(\"the list of even numbers is:\",list1)"
   ]
  },
  {
   "cell_type": "code",
   "execution_count": 110,
   "id": "54d7aaeb-8a19-491c-a69e-8cd2faa9833e",
   "metadata": {},
   "outputs": [],
   "source": [
    "#13)to create a list of odd numbers from 1-20\n",
    "\n"
   ]
  },
  {
   "cell_type": "code",
   "execution_count": 168,
   "id": "0422b4e0-4e1a-41aa-b2dd-ea71d031e32f",
   "metadata": {},
   "outputs": [],
   "source": [
    "list1=[i for i in range(1,21,2)]"
   ]
  },
  {
   "cell_type": "code",
   "execution_count": 169,
   "id": "55ddf236-07c4-4abb-b623-624216c81cc1",
   "metadata": {},
   "outputs": [
    {
     "name": "stdout",
     "output_type": "stream",
     "text": [
      "the list of odd numbers is: [1, 3, 5, 7, 9, 11, 13, 15, 17, 19]\n"
     ]
    }
   ],
   "source": [
    "print(\"the list of odd numbers is:\",list1)"
   ]
  },
  {
   "cell_type": "code",
   "execution_count": 113,
   "id": "2b927159-79a0-4c6a-8aff-31e404d2302b",
   "metadata": {},
   "outputs": [],
   "source": [
    "#14)to find max value in a list\n",
    "\n"
   ]
  },
  {
   "cell_type": "code",
   "execution_count": 207,
   "id": "ad61e3f7-9d78-47cc-969d-dbba05e7162a",
   "metadata": {},
   "outputs": [],
   "source": [
    "list1=[2,3,4,5,6]"
   ]
  },
  {
   "cell_type": "code",
   "execution_count": 210,
   "id": "10e27773-5fcf-4c86-ba73-835d88a07cd4",
   "metadata": {},
   "outputs": [],
   "source": [
    "total_sum =max(list1)            #max() function to find maximum value"
   ]
  },
  {
   "cell_type": "code",
   "execution_count": 211,
   "id": "91ff5bbd-9d9a-40a8-aaac-0c6f3efbada8",
   "metadata": {},
   "outputs": [
    {
     "name": "stdout",
     "output_type": "stream",
     "text": [
      "the sum of elements in above list is: 6\n"
     ]
    }
   ],
   "source": [
    "print(\"the maximum value in above list is:\",total_sum)"
   ]
  },
  {
   "cell_type": "code",
   "execution_count": null,
   "id": "7fd51586-c310-418c-b7f7-d53037ece4ba",
   "metadata": {},
   "outputs": [],
   "source": [
    "#15) to find the min value in list"
   ]
  },
  {
   "cell_type": "code",
   "execution_count": 214,
   "id": "291ddf67-c7bc-4255-b2da-16becb705625",
   "metadata": {},
   "outputs": [],
   "source": [
    "list1=[2,3,4,5,6]"
   ]
  },
  {
   "cell_type": "code",
   "execution_count": 215,
   "id": "4008c152-9937-460c-8b09-8ae83decd919",
   "metadata": {},
   "outputs": [],
   "source": [
    "total_sum =min(list1)            #min() function to find maximum value"
   ]
  },
  {
   "cell_type": "code",
   "execution_count": 216,
   "id": "e2b5255c-e039-4b54-b09e-0d9b7ef25be3",
   "metadata": {},
   "outputs": [
    {
     "name": "stdout",
     "output_type": "stream",
     "text": [
      "the minimum value in above list is: 2\n"
     ]
    }
   ],
   "source": [
    "print(\"the minimum value in above list is:\",total_sum)"
   ]
  },
  {
   "cell_type": "code",
   "execution_count": 217,
   "id": "dd0458e8-00cc-4c91-a71d-319df5507310",
   "metadata": {},
   "outputs": [],
   "source": [
    "#16) to find the sum of all elements in list\n",
    "\n"
   ]
  },
  {
   "cell_type": "code",
   "execution_count": 3,
   "id": "721a6dd1-7729-45c4-8503-249890f14cee",
   "metadata": {},
   "outputs": [],
   "source": [
    "list1=[2,3,4,5,6]"
   ]
  },
  {
   "cell_type": "code",
   "execution_count": 4,
   "id": "2a906021-0e73-4e57-923e-afa4e1aa310b",
   "metadata": {},
   "outputs": [],
   "source": [
    "s=0\n",
    "for i in range(0,(len(list1))):\n",
    "    s+=i\n",
    "    s+=1"
   ]
  },
  {
   "cell_type": "code",
   "execution_count": 5,
   "id": "284749e1-9695-44e9-8af2-1fe35c0bd8b8",
   "metadata": {},
   "outputs": [
    {
     "name": "stdout",
     "output_type": "stream",
     "text": [
      "the minimum value in above list is: 15\n"
     ]
    }
   ],
   "source": [
    "print(\"the minimum value in above list is:\",s)"
   ]
  },
  {
   "cell_type": "code",
   "execution_count": 6,
   "id": "80929656-33a7-4fb7-8015-2be4a6fee700",
   "metadata": {},
   "outputs": [],
   "source": [
    "#17) to create a list of squares of numbers from 1-10\n",
    "\n"
   ]
  },
  {
   "cell_type": "code",
   "execution_count": 7,
   "id": "24b92bf0-22b7-4575-9ce8-405070a8dd0f",
   "metadata": {},
   "outputs": [],
   "source": [
    "list1= [i**2 for i in range(1,11)]            #to find squares of numbers 1-10"
   ]
  },
  {
   "cell_type": "code",
   "execution_count": 8,
   "id": "7055bccd-f9de-4134-a48d-574cefdc24d5",
   "metadata": {},
   "outputs": [
    {
     "name": "stdout",
     "output_type": "stream",
     "text": [
      " the squares of numbers from 1-10 is: [1, 4, 9, 16, 25, 36, 49, 64, 81, 100]\n"
     ]
    }
   ],
   "source": [
    "print(\" the squares of numbers from 1-10 is:\",list1)"
   ]
  },
  {
   "cell_type": "code",
   "execution_count": null,
   "id": "fbc326b9-07fb-4002-a0fd-a1568a23fb1a",
   "metadata": {},
   "outputs": [],
   "source": [
    "#18) create a list of random numbers\n",
    "\n"
   ]
  },
  {
   "cell_type": "code",
   "execution_count": 9,
   "id": "38d89527-4aab-4f15-bab1-2f9caddfd153",
   "metadata": {},
   "outputs": [],
   "source": [
    "import random                                  #import random module"
   ]
  },
  {
   "cell_type": "code",
   "execution_count": 11,
   "id": "878a822c-83c9-4a8d-ae0e-985c131ba133",
   "metadata": {},
   "outputs": [],
   "source": [
    "res= random.sample(range(1,50),7)              #using random.sample()"
   ]
  },
  {
   "cell_type": "code",
   "execution_count": 12,
   "id": "a20a322b-eba6-40be-8f92-466e5c0eeb53",
   "metadata": {},
   "outputs": [
    {
     "name": "stdout",
     "output_type": "stream",
     "text": [
      "the list of random integers is: [40, 12, 29, 31, 5, 49, 45]\n"
     ]
    }
   ],
   "source": [
    "print(\"the list of random integers is:\",res)"
   ]
  },
  {
   "cell_type": "code",
   "execution_count": 13,
   "id": "07487e4b-1787-4c0b-b577-f070daaf5d85",
   "metadata": {},
   "outputs": [],
   "source": [
    "#19)to remove duplicates form list\n",
    "\n"
   ]
  },
  {
   "cell_type": "code",
   "execution_count": 14,
   "id": "b2525261-8bb8-42ac-bf74-23ee6bf9a0c5",
   "metadata": {},
   "outputs": [],
   "source": [
    "list1=['name','age','profession','age','city']"
   ]
  },
  {
   "cell_type": "code",
   "execution_count": 16,
   "id": "96cd00af-3374-416f-88ae-a3fdc108a6d2",
   "metadata": {},
   "outputs": [],
   "source": [
    "dupli_list= list(set(list1))     #convert list to set as set always has unique elements"
   ]
  },
  {
   "cell_type": "code",
   "execution_count": 17,
   "id": "37583c46-0b2f-4439-95ee-29c1ec5225cb",
   "metadata": {},
   "outputs": [
    {
     "name": "stdout",
     "output_type": "stream",
     "text": [
      "the list without duplicates is: ['profession', 'city', 'name', 'age']\n"
     ]
    }
   ],
   "source": [
    "print(\"the list without duplicates is:\",dupli_list)"
   ]
  },
  {
   "cell_type": "code",
   "execution_count": 18,
   "id": "5f64d512-2a9a-461b-b9fd-504843ae22bf",
   "metadata": {},
   "outputs": [],
   "source": [
    "#20) to remove common elements between two lists\n",
    "\n"
   ]
  },
  {
   "cell_type": "code",
   "execution_count": 26,
   "id": "b8afc114-bfa9-49fc-809f-07a21bf2305e",
   "metadata": {},
   "outputs": [],
   "source": [
    "list1=[3,5,6,8]"
   ]
  },
  {
   "cell_type": "code",
   "execution_count": 27,
   "id": "60e87791-a042-4213-bd1a-b8faa2a07f0a",
   "metadata": {},
   "outputs": [],
   "source": [
    "list2=[5,6,8,9]"
   ]
  },
  {
   "cell_type": "code",
   "execution_count": 28,
   "id": "6ac7a125-a878-4a5e-83c9-bd9af6cf7982",
   "metadata": {},
   "outputs": [],
   "source": [
    "common=0\n",
    "for x in range(0,(len(list1))):                 #iteration for list1 from 0 to list1\n",
    "               for y in range(0,(len(list2))):  #iteration for list2 from 0 to list2\n",
    "                     if x==y:                   #check if elements match in both\n",
    "                       common+=1\n",
    "                                                          "
   ]
  },
  {
   "cell_type": "code",
   "execution_count": 30,
   "id": "d0ad5e3e-002c-450c-8d33-891d3cb51222",
   "metadata": {},
   "outputs": [
    {
     "name": "stdout",
     "output_type": "stream",
     "text": [
      "the list of common elemnts are: 4\n"
     ]
    }
   ],
   "source": [
    "print(\"the list of common elemnts are:\",common)"
   ]
  },
  {
   "cell_type": "code",
   "execution_count": 31,
   "id": "41378f24-2469-48f2-9eba-3cfd75b00e88",
   "metadata": {},
   "outputs": [],
   "source": [
    "#21)to find differnce between two lists\n",
    "\n"
   ]
  },
  {
   "cell_type": "code",
   "execution_count": 32,
   "id": "d4fbfda0-d718-4b7c-b1d8-fac37c204441",
   "metadata": {},
   "outputs": [],
   "source": [
    "list1=[12,23,45,67]"
   ]
  },
  {
   "cell_type": "code",
   "execution_count": 33,
   "id": "08b2b93a-2f7a-46ba-946e-314f6fd68589",
   "metadata": {},
   "outputs": [],
   "source": [
    "list2=[12,45,32,78,67]"
   ]
  },
  {
   "cell_type": "code",
   "execution_count": 34,
   "id": "d6479006-9c37-43a4-9cb3-be896dd07e38",
   "metadata": {},
   "outputs": [],
   "source": [
    "diff_list= list(set(list1).difference(list2))   #using difference() to find differnce between two lists"
   ]
  },
  {
   "cell_type": "code",
   "execution_count": 35,
   "id": "48c1eb70-538a-4fb2-99a2-3c0a7844e3b8",
   "metadata": {},
   "outputs": [
    {
     "name": "stdout",
     "output_type": "stream",
     "text": [
      "the difference in both the lists are: [23]\n"
     ]
    }
   ],
   "source": [
    "print(\"the difference in both the lists are:\",diff_list)"
   ]
  },
  {
   "cell_type": "code",
   "execution_count": 36,
   "id": "601afa24-d5d4-4802-bf16-5c943bae8c1e",
   "metadata": {},
   "outputs": [],
   "source": [
    "#22) to merge two lists\n",
    "\n"
   ]
  },
  {
   "cell_type": "code",
   "execution_count": 37,
   "id": "eb8e522e-08e0-4770-8a42-3aeb4af8c6c9",
   "metadata": {},
   "outputs": [],
   "source": [
    "list1=[12,23,45,67]"
   ]
  },
  {
   "cell_type": "code",
   "execution_count": 38,
   "id": "12269202-d0f7-48d1-a438-3c31fd6a5644",
   "metadata": {},
   "outputs": [],
   "source": [
    "list2=[12,45,32,78,67]"
   ]
  },
  {
   "cell_type": "code",
   "execution_count": 41,
   "id": "c3a639d5-6a85-4db9-b56e-8a97e8b0699d",
   "metadata": {},
   "outputs": [],
   "source": [
    "merge_list= list1+list2            #to merge the two lists"
   ]
  },
  {
   "cell_type": "code",
   "execution_count": 42,
   "id": "d0f534c3-9d03-42c9-9472-57b321a0c880",
   "metadata": {},
   "outputs": [
    {
     "name": "stdout",
     "output_type": "stream",
     "text": [
      "the merged list is: [12, 23, 45, 67, 12, 45, 32, 78, 67]\n"
     ]
    }
   ],
   "source": [
    "print(\"the merged list is:\",merge_list)"
   ]
  },
  {
   "cell_type": "code",
   "execution_count": 43,
   "id": "74ee9202-7557-408a-bbc8-72cc77ffc38a",
   "metadata": {},
   "outputs": [],
   "source": [
    "#23) multiply all elements in list by 2\n",
    "\n"
   ]
  },
  {
   "cell_type": "code",
   "execution_count": 48,
   "id": "865af288-b493-4f89-b162-c82abf6cbad4",
   "metadata": {},
   "outputs": [],
   "source": [
    "list1=[12,23,45,67]      "
   ]
  },
  {
   "cell_type": "code",
   "execution_count": 49,
   "id": "1ca9a5cb-710c-4015-8aa9-d991e389f034",
   "metadata": {},
   "outputs": [],
   "source": [
    "mult_list= [x*2 for x in list1]           #multiply all elements by 2"
   ]
  },
  {
   "cell_type": "code",
   "execution_count": 50,
   "id": "02936fed-4f03-4bd5-9137-01d999d44b4d",
   "metadata": {},
   "outputs": [
    {
     "name": "stdout",
     "output_type": "stream",
     "text": [
      "the final list is: [24, 46, 90, 134]\n"
     ]
    }
   ],
   "source": [
    "print(\"the final list is:\", mult_list)"
   ]
  },
  {
   "cell_type": "code",
   "execution_count": 51,
   "id": "6d978d53-a661-48a9-b4a2-1d69466bde7b",
   "metadata": {},
   "outputs": [],
   "source": [
    "#24) filter out all even numbers from the list\n",
    "\n"
   ]
  },
  {
   "cell_type": "code",
   "execution_count": 73,
   "id": "2f337204-7fd6-443f-a64b-161fed74ade0",
   "metadata": {},
   "outputs": [],
   "source": [
    "list1=[2,3,4,5,6]"
   ]
  },
  {
   "cell_type": "code",
   "execution_count": 74,
   "id": "0b43b39e-0e38-4642-ac7e-b5f294ba9a41",
   "metadata": {},
   "outputs": [],
   "source": [
    "even=0\n",
    "for i in range(0,(len(list1))):    #iteration to check if a particular element in list is divisible by 2\n",
    "        if (i%2==0):\n",
    "           even+=1\n",
    "            "
   ]
  },
  {
   "cell_type": "code",
   "execution_count": 75,
   "id": "2a4a076d-9296-4043-aec6-3b8dfc514a0f",
   "metadata": {
    "tags": []
   },
   "outputs": [
    {
     "name": "stdout",
     "output_type": "stream",
     "text": [
      "the number of even elements are: 3\n"
     ]
    }
   ],
   "source": [
    "print(\"the number of even elements are:\",even)"
   ]
  },
  {
   "cell_type": "code",
   "execution_count": 61,
   "id": "b103ab81-8780-4dff-96f2-46995058579b",
   "metadata": {},
   "outputs": [],
   "source": [
    "#25) convert a list of strings to a list of integers\n",
    "\n"
   ]
  },
  {
   "cell_type": "code",
   "execution_count": 62,
   "id": "6445fd9f-66a5-409f-835c-0a6ac39c83ed",
   "metadata": {},
   "outputs": [],
   "source": [
    "list1=[\"15\",\"23\",\"45\"]"
   ]
  },
  {
   "cell_type": "code",
   "execution_count": 64,
   "id": "398ee76a-4c90-4e62-8205-c4867242617a",
   "metadata": {},
   "outputs": [],
   "source": [
    "int_list= [int (x) for x in list1]"
   ]
  },
  {
   "cell_type": "code",
   "execution_count": 65,
   "id": "312e50d3-2f80-496d-8e13-be4199fcbfef",
   "metadata": {},
   "outputs": [
    {
     "name": "stdout",
     "output_type": "stream",
     "text": [
      "the integer list of the above string list is: [15, 23, 45]\n"
     ]
    }
   ],
   "source": [
    "print(\"the integer list of the above string list is:\",int_list)"
   ]
  },
  {
   "cell_type": "code",
   "execution_count": 66,
   "id": "ab5b4715-6e4e-4659-9206-bdd687394f17",
   "metadata": {},
   "outputs": [],
   "source": [
    "#26) convert a list of integers to a list of strings\n",
    "\n"
   ]
  },
  {
   "cell_type": "code",
   "execution_count": 67,
   "id": "850d0921-2254-4940-9609-269c3d51a3a2",
   "metadata": {},
   "outputs": [],
   "source": [
    "list1= [12,23,45,67]"
   ]
  },
  {
   "cell_type": "code",
   "execution_count": 71,
   "id": "6b676691-f7b8-414b-90f2-47ede652c24e",
   "metadata": {},
   "outputs": [],
   "source": [
    "str_list= [str (x) for x in list1]"
   ]
  },
  {
   "cell_type": "code",
   "execution_count": 72,
   "id": "1c11f98f-3d93-4da1-b217-e5621da49d79",
   "metadata": {},
   "outputs": [
    {
     "name": "stdout",
     "output_type": "stream",
     "text": [
      "the string list of above integer list is: ['12', '23', '45', '67']\n"
     ]
    }
   ],
   "source": [
    "print(\"the string list of above integer list is:\", str_list)"
   ]
  },
  {
   "cell_type": "code",
   "execution_count": 76,
   "id": "6160a493-53f7-4718-ad53-741544cdd5ec",
   "metadata": {},
   "outputs": [],
   "source": [
    "#27) to flatten a nested list\n",
    "\n"
   ]
  },
  {
   "cell_type": "code",
   "execution_count": 12,
   "id": "49cfef84-0599-47a1-a598-3e3f3453c2eb",
   "metadata": {},
   "outputs": [],
   "source": [
    "matrix=[[3,4,5],\n",
    "        [5,6,7],\n",
    "        [2,3,4],\n",
    "        [9,10,11]]"
   ]
  },
  {
   "cell_type": "code",
   "execution_count": 14,
   "id": "f7ee3053-22ab-4730-969f-9ca7d6b34942",
   "metadata": {},
   "outputs": [],
   "source": [
    "res= [ i for row in [[3,4,5],[5,6,7],[2,3,4],[9,10,11]] for i in row]    #function to flatten list"
   ]
  },
  {
   "cell_type": "code",
   "execution_count": 15,
   "id": "53807e1b-c415-4b46-823f-5c0510dafd55",
   "metadata": {},
   "outputs": [
    {
     "name": "stdout",
     "output_type": "stream",
     "text": [
      "the flattened list is: [3, 4, 5, 5, 6, 7, 2, 3, 4, 9, 10, 11]\n"
     ]
    }
   ],
   "source": [
    "print(\"the flattened list is:\",res)"
   ]
  },
  {
   "cell_type": "code",
   "execution_count": 16,
   "id": "ade5d7ef-e26b-424f-9650-c9031bb47fc6",
   "metadata": {},
   "outputs": [],
   "source": [
    "#28) to check if list is sorted\n",
    "\n"
   ]
  },
  {
   "cell_type": "code",
   "execution_count": 37,
   "id": "93361600-ceb9-4b11-bc2f-f8630cc4b5c6",
   "metadata": {},
   "outputs": [],
   "source": [
    "list1=[23,4,56,7,9]"
   ]
  },
  {
   "cell_type": "code",
   "execution_count": 38,
   "id": "5a09f840-39be-411a-a004-c6bb8eb08994",
   "metadata": {},
   "outputs": [
    {
     "name": "stdout",
     "output_type": "stream",
     "text": [
      " the original list is: [23, 4, 56, 7, 9]\n"
     ]
    }
   ],
   "source": [
    "print(\" the original list is:\",list1)"
   ]
  },
  {
   "cell_type": "code",
   "execution_count": 39,
   "id": "04c61297-5a35-489d-9afe-3a08c72263ea",
   "metadata": {},
   "outputs": [],
   "source": [
    "flag=0\n",
    "list2=list[:]\n",
    "list1.sort()                       #use sort() to check sorted list\n",
    "if (list2==list1):\n",
    "    flag=1"
   ]
  },
  {
   "cell_type": "code",
   "execution_count": 44,
   "id": "1c011439-e3a5-46a9-92c1-77aa30475300",
   "metadata": {},
   "outputs": [
    {
     "name": "stdout",
     "output_type": "stream",
     "text": [
      "the list is not sorted\n"
     ]
    }
   ],
   "source": [
    "if(flag):\n",
    "    print(\"yes, the list is sorted\")\n",
    "else:\n",
    "    print(\"the list is not sorted\")"
   ]
  },
  {
   "cell_type": "code",
   "execution_count": 45,
   "id": "a5ed1b4d-d4b6-4af0-9678-3852294254fe",
   "metadata": {},
   "outputs": [],
   "source": [
    "#29) to rotate list to right by n positions\n",
    "\n"
   ]
  },
  {
   "cell_type": "code",
   "execution_count": 64,
   "id": "1091ff5c-428c-4938-8c25-b1b49f1cfbd2",
   "metadata": {},
   "outputs": [],
   "source": [
    "n=3"
   ]
  },
  {
   "cell_type": "code",
   "execution_count": 65,
   "id": "7180b20c-c2de-47c6-9991-6f12c569902c",
   "metadata": {},
   "outputs": [],
   "source": [
    "list1=[1,2,3,4,5]"
   ]
  },
  {
   "cell_type": "code",
   "execution_count": 66,
   "id": "5aac8ab9-d17e-4fa3-948f-ab18aed283e4",
   "metadata": {},
   "outputs": [],
   "source": [
    "if n>len(list1):\n",
    "    n=int(n%len(list1))\n",
    "    list1=(list1[-n:] + list[:-n])\n",
    "           \n",
    "          "
   ]
  },
  {
   "cell_type": "code",
   "execution_count": 67,
   "id": "db99a3e4-02d6-4d1e-9df8-30a5fc817cc6",
   "metadata": {},
   "outputs": [
    {
     "name": "stdout",
     "output_type": "stream",
     "text": [
      "[1, 2, 3, 4, 5]\n"
     ]
    }
   ],
   "source": [
    "print(list1)"
   ]
  },
  {
   "cell_type": "code",
   "execution_count": 69,
   "id": "3dbce65e-f97b-4c61-95ae-856e609b599d",
   "metadata": {},
   "outputs": [],
   "source": [
    "#30) list of prime numbers upto 50\n",
    "\n"
   ]
  },
  {
   "cell_type": "code",
   "execution_count": 85,
   "id": "2e41284e-0e89-482c-94b6-cae37749cfc0",
   "metadata": {},
   "outputs": [],
   "source": [
    "lower=0"
   ]
  },
  {
   "cell_type": "code",
   "execution_count": 86,
   "id": "4bbf35a0-8e6b-4b20-9f0a-0fd1c47182b5",
   "metadata": {},
   "outputs": [],
   "source": [
    "upper=51"
   ]
  },
  {
   "cell_type": "code",
   "execution_count": 87,
   "id": "97653de7-60de-4c60-abbc-3c58cb35e907",
   "metadata": {},
   "outputs": [
    {
     "name": "stdout",
     "output_type": "stream",
     "text": [
      "prime numbers between 0 and 51 are:\n"
     ]
    }
   ],
   "source": [
    "print(\"prime numbers between\",lower,\"and\",upper,\"are:\")"
   ]
  },
  {
   "cell_type": "code",
   "execution_count": 88,
   "id": "c2072220-d2e3-4350-bee0-1d2e3d89c7da",
   "metadata": {},
   "outputs": [
    {
     "name": "stdout",
     "output_type": "stream",
     "text": [
      "2\n"
     ]
    }
   ],
   "source": [
    "for num in range (lower,upper+1):\n",
    "    if(num>1):\n",
    "        for i in range(2,num):\n",
    "            if (num%1)==0:\n",
    "                break\n",
    "        else:\n",
    "            print(num)"
   ]
  },
  {
   "cell_type": "code",
   "execution_count": null,
   "id": "bdf2df7c-e074-42af-bb23-f8f0505d6aa7",
   "metadata": {},
   "outputs": [],
   "source": []
  },
  {
   "cell_type": "code",
   "execution_count": null,
   "id": "b09247f7-b44b-4653-aefe-ead206d1f6e1",
   "metadata": {},
   "outputs": [],
   "source": []
  }
 ],
 "metadata": {
  "kernelspec": {
   "display_name": "Python 3 (ipykernel)",
   "language": "python",
   "name": "python3"
  },
  "language_info": {
   "codemirror_mode": {
    "name": "ipython",
    "version": 3
   },
   "file_extension": ".py",
   "mimetype": "text/x-python",
   "name": "python",
   "nbconvert_exporter": "python",
   "pygments_lexer": "ipython3",
   "version": "3.10.6"
  }
 },
 "nbformat": 4,
 "nbformat_minor": 5
}
